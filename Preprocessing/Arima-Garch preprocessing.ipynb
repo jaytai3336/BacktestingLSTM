{
 "cells": [
  {
   "cell_type": "markdown",
   "id": "db6c572e",
   "metadata": {},
   "source": [
    "As we know from Basic Data Exploration, the data is not stationary."
   ]
  },
  {
   "cell_type": "code",
   "execution_count": null,
   "id": "b5e1fa73",
   "metadata": {},
   "outputs": [],
   "source": []
  }
 ],
 "metadata": {
  "language_info": {
   "name": "python"
  }
 },
 "nbformat": 4,
 "nbformat_minor": 5
}
