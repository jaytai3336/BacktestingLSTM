{
 "cells": [
  {
   "cell_type": "code",
   "execution_count": null,
   "id": "8ef19dee",
   "metadata": {},
   "outputs": [],
   "source": [
    "# Plot the data used to visualize the time series\n",
    "import matplotlib.pyplot as plt\n",
    "plt.figure(figsize=(16, 12))\n",
    "\n",
    "# Short time frame\n",
    "start_date = df['DATE'].iloc[185880*.8]\n",
    "time_period = 5*60 # 5 hours\n",
    "plt.subplot(3, 1, 1)\n",
    "plt.plot(df['DATE'].iloc[0:time_period+1], df['CLOSE'].iloc[0:time_period+1])\n",
    "plt.title('5 Hour')\n",
    "plt.xlabel('Date')\n",
    "plt.ylabel('Price')\n",
    "\n",
    "time_period = 3*24*60 # 3 day in mins\n",
    "plt.subplot(3, 1, 2)\n",
    "plt.plot(df['DATE'].iloc[0:time_period+1], df['CLOSE'].iloc[0:time_period+1])\n",
    "plt.title('3 Day')\n",
    "plt.xlabel('Date')\n",
    "plt.ylabel('Price')\n",
    "\n",
    "time_period = 3*24*60 # 3 day in mins\n",
    "plt.subplot(3, 1, 2)\n",
    "plt.plot(df['DATE'].iloc[0:time_period+1], df['CLOSE'].iloc[0:time_period+1])\n",
    "plt.title('1 Month')\n",
    "plt.xlabel('Date')\n",
    "plt.ylabel('Price')\n",
    "plt.show()"
   ]
  }
 ],
 "metadata": {
  "language_info": {
   "name": "python"
  }
 },
 "nbformat": 4,
 "nbformat_minor": 5
}
